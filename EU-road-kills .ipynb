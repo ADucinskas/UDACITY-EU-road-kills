{
 "cells": [
  {
   "cell_type": "code",
   "execution_count": 1,
   "metadata": {},
   "outputs": [],
   "source": [
    "import pandas as pd\n",
    "import numpy as np\n",
    "import matplotlib.pyplot as plt\n",
    "%matplotlib inline  "
   ]
  },
  {
   "cell_type": "code",
   "execution_count": 2,
   "metadata": {},
   "outputs": [],
   "source": [
    "# read dataframe\n",
    "df=pd.read_csv('tran_sf_roadve+ESTAT.csv')\n",
    "# remove d's from dataframe\n",
    "data=df.replace(' d','',regex=True)\n",
    "# in the source document NaN values were lable ' :', thus we changed it into NaN\n",
    "data=data.replace(': ',np.NaN)\n",
    "# change data type to float\n",
    "data=data[data.columns[1:]].astype('float64')\n"
   ]
  },
  {
   "cell_type": "code",
   "execution_count": 3,
   "metadata": {},
   "outputs": [],
   "source": [
    "#Since in the given data frame , and ; are delimeters we made new data frame and split one collumn into 4 new ones \n",
    "new = df['freq;unit;vehicle;geo\\\\TIME_PERIOD'].str.split(\";\", n = 3, expand = True)\n",
    "#The names for new columns are extracted \n",
    "new_col=df.columns[0].split(';')\n",
    "#New columns are rename and for the last column we use only 'geo'\n",
    "new.rename(columns={0:new_col[0] , 1:new_col[1], 2:new_col[2],3:'geo'},inplace=True)\n",
    "data=pd.concat([new,data],axis=1)\n"
   ]
  },
  {
   "cell_type": "code",
   "execution_count": 4,
   "metadata": {},
   "outputs": [
    {
     "data": {
      "text/html": [
       "<div>\n",
       "<style scoped>\n",
       "    .dataframe tbody tr th:only-of-type {\n",
       "        vertical-align: middle;\n",
       "    }\n",
       "\n",
       "    .dataframe tbody tr th {\n",
       "        vertical-align: top;\n",
       "    }\n",
       "\n",
       "    .dataframe thead th {\n",
       "        text-align: right;\n",
       "    }\n",
       "</style>\n",
       "<table border=\"1\" class=\"dataframe\">\n",
       "  <thead>\n",
       "    <tr style=\"text-align: right;\">\n",
       "      <th></th>\n",
       "      <th>freq</th>\n",
       "      <th>unit</th>\n",
       "      <th>vehicle</th>\n",
       "      <th>geo</th>\n",
       "      <th>1999</th>\n",
       "      <th>2000</th>\n",
       "      <th>2001</th>\n",
       "      <th>2002</th>\n",
       "      <th>2003</th>\n",
       "      <th>2004</th>\n",
       "      <th>...</th>\n",
       "      <th>2009</th>\n",
       "      <th>2010</th>\n",
       "      <th>2011</th>\n",
       "      <th>2012</th>\n",
       "      <th>2013</th>\n",
       "      <th>2014</th>\n",
       "      <th>2015</th>\n",
       "      <th>2016</th>\n",
       "      <th>2017</th>\n",
       "      <th>2018</th>\n",
       "    </tr>\n",
       "  </thead>\n",
       "  <tbody>\n",
       "    <tr>\n",
       "      <th>0</th>\n",
       "      <td>A</td>\n",
       "      <td>NR</td>\n",
       "      <td>ANI_RD</td>\n",
       "      <td>BE</td>\n",
       "      <td>NaN</td>\n",
       "      <td>NaN</td>\n",
       "      <td>NaN</td>\n",
       "      <td>NaN</td>\n",
       "      <td>NaN</td>\n",
       "      <td>NaN</td>\n",
       "      <td>...</td>\n",
       "      <td>NaN</td>\n",
       "      <td>0.0</td>\n",
       "      <td>NaN</td>\n",
       "      <td>NaN</td>\n",
       "      <td>0.0</td>\n",
       "      <td>1.0</td>\n",
       "      <td>1.0</td>\n",
       "      <td>0.0</td>\n",
       "      <td>0.0</td>\n",
       "      <td>0.0</td>\n",
       "    </tr>\n",
       "    <tr>\n",
       "      <th>1</th>\n",
       "      <td>A</td>\n",
       "      <td>NR</td>\n",
       "      <td>ANI_RD</td>\n",
       "      <td>BG</td>\n",
       "      <td>NaN</td>\n",
       "      <td>NaN</td>\n",
       "      <td>NaN</td>\n",
       "      <td>NaN</td>\n",
       "      <td>NaN</td>\n",
       "      <td>NaN</td>\n",
       "      <td>...</td>\n",
       "      <td>NaN</td>\n",
       "      <td>9.0</td>\n",
       "      <td>7.0</td>\n",
       "      <td>12.0</td>\n",
       "      <td>5.0</td>\n",
       "      <td>3.0</td>\n",
       "      <td>5.0</td>\n",
       "      <td>6.0</td>\n",
       "      <td>5.0</td>\n",
       "      <td>6.0</td>\n",
       "    </tr>\n",
       "    <tr>\n",
       "      <th>2</th>\n",
       "      <td>A</td>\n",
       "      <td>NR</td>\n",
       "      <td>ANI_RD</td>\n",
       "      <td>DK</td>\n",
       "      <td>NaN</td>\n",
       "      <td>NaN</td>\n",
       "      <td>NaN</td>\n",
       "      <td>NaN</td>\n",
       "      <td>NaN</td>\n",
       "      <td>NaN</td>\n",
       "      <td>...</td>\n",
       "      <td>NaN</td>\n",
       "      <td>NaN</td>\n",
       "      <td>0.0</td>\n",
       "      <td>0.0</td>\n",
       "      <td>1.0</td>\n",
       "      <td>0.0</td>\n",
       "      <td>1.0</td>\n",
       "      <td>0.0</td>\n",
       "      <td>0.0</td>\n",
       "      <td>0.0</td>\n",
       "    </tr>\n",
       "    <tr>\n",
       "      <th>3</th>\n",
       "      <td>A</td>\n",
       "      <td>NR</td>\n",
       "      <td>ANI_RD</td>\n",
       "      <td>EE</td>\n",
       "      <td>NaN</td>\n",
       "      <td>NaN</td>\n",
       "      <td>NaN</td>\n",
       "      <td>NaN</td>\n",
       "      <td>NaN</td>\n",
       "      <td>NaN</td>\n",
       "      <td>...</td>\n",
       "      <td>NaN</td>\n",
       "      <td>NaN</td>\n",
       "      <td>NaN</td>\n",
       "      <td>NaN</td>\n",
       "      <td>NaN</td>\n",
       "      <td>NaN</td>\n",
       "      <td>NaN</td>\n",
       "      <td>NaN</td>\n",
       "      <td>NaN</td>\n",
       "      <td>0.0</td>\n",
       "    </tr>\n",
       "    <tr>\n",
       "      <th>4</th>\n",
       "      <td>A</td>\n",
       "      <td>NR</td>\n",
       "      <td>ANI_RD</td>\n",
       "      <td>HR</td>\n",
       "      <td>NaN</td>\n",
       "      <td>NaN</td>\n",
       "      <td>NaN</td>\n",
       "      <td>NaN</td>\n",
       "      <td>NaN</td>\n",
       "      <td>NaN</td>\n",
       "      <td>...</td>\n",
       "      <td>NaN</td>\n",
       "      <td>NaN</td>\n",
       "      <td>NaN</td>\n",
       "      <td>NaN</td>\n",
       "      <td>NaN</td>\n",
       "      <td>NaN</td>\n",
       "      <td>NaN</td>\n",
       "      <td>0.0</td>\n",
       "      <td>NaN</td>\n",
       "      <td>0.0</td>\n",
       "    </tr>\n",
       "  </tbody>\n",
       "</table>\n",
       "<p>5 rows × 24 columns</p>\n",
       "</div>"
      ],
      "text/plain": [
       "  freq unit vehicle geo  1999  2000  2001  2002  2003  2004  ...  2009  2010  \\\n",
       "0    A   NR  ANI_RD  BE   NaN   NaN   NaN   NaN   NaN   NaN  ...   NaN   0.0   \n",
       "1    A   NR  ANI_RD  BG   NaN   NaN   NaN   NaN   NaN   NaN  ...   NaN   9.0   \n",
       "2    A   NR  ANI_RD  DK   NaN   NaN   NaN   NaN   NaN   NaN  ...   NaN   NaN   \n",
       "3    A   NR  ANI_RD  EE   NaN   NaN   NaN   NaN   NaN   NaN  ...   NaN   NaN   \n",
       "4    A   NR  ANI_RD  HR   NaN   NaN   NaN   NaN   NaN   NaN  ...   NaN   NaN   \n",
       "\n",
       "   2011  2012  2013  2014  2015  2016  2017  2018  \n",
       "0   NaN   NaN   0.0   1.0   1.0   0.0   0.0   0.0  \n",
       "1   7.0  12.0   5.0   3.0   5.0   6.0   5.0   6.0  \n",
       "2   0.0   0.0   1.0   0.0   1.0   0.0   0.0   0.0  \n",
       "3   NaN   NaN   NaN   NaN   NaN   NaN   NaN   0.0  \n",
       "4   NaN   NaN   NaN   NaN   NaN   0.0   NaN   0.0  \n",
       "\n",
       "[5 rows x 24 columns]"
      ]
     },
     "execution_count": 4,
     "metadata": {},
     "output_type": "execute_result"
    }
   ],
   "source": [
    "#remove from column names spaces \n",
    "str_list=data.columns\n",
    "for i,item in enumerate(str_list):\n",
    "    data.rename(columns={str_list[i]:item.replace(' ','')},inplace=True)\n",
    "\n",
    "#drop rows, which do not correspond to individual contries\n",
    "data.drop(data[data['geo'] =='EU27_2020'].index, inplace = True)\n",
    "data.drop(data[data['geo'] =='EU28'].index, inplace = True)\n",
    "#check the lsit of the countries\n",
    "\n",
    "data.head()"
   ]
  },
  {
   "cell_type": "markdown",
   "metadata": {},
   "source": [
    "<font size=\"5\">Does data collection improved over years?</font>"
   ]
  },
  {
   "cell_type": "code",
   "execution_count": 5,
   "metadata": {},
   "outputs": [
    {
     "data": {
      "image/png": "[encoded data removed]",
      "text/plain": [
       "<Figure size 432x288 with 1 Axes>"
      ]
     },
     "metadata": {
      "needs_background": "light"
     },
     "output_type": "display_data"
    }
   ],
   "source": [
    "#Check the missing values\n",
    "(data[data.columns[4:]].isnull().sum()/len(data)).plot.bar()\n",
    "plt.ylabel('Fraction of missing values')\n",
    "plt.xlabel('Years')\n",
    "plt.show()"
   ]
  },
  {
   "cell_type": "markdown",
   "metadata": {},
   "source": [
    "It seems that data collection **improved** over time. Now let's take a look at the historical data of total deaths by car accidents in EU"
   ]
  },
  {
   "cell_type": "markdown",
   "metadata": {},
   "source": [
    "<font size=\"5\">How do road kills change over the course of 1999-2018?</font>"
   ]
  },
  {
   "cell_type": "code",
   "execution_count": 6,
   "metadata": {},
   "outputs": [
    {
     "data": {
      "image/png": "[encoded data removed]",
      "text/plain": [
       "<Figure size 432x288 with 1 Axes>"
      ]
     },
     "metadata": {
      "needs_background": "light"
     },
     "output_type": "display_data"
    }
   ],
   "source": [
    "#Plot the annual cummulative deaths by road accident in EU\n",
    "data.groupby('vehicle').sum().loc['TOTAL'].plot.bar()\n",
    "plt.ylabel('Deaths by road accidents')\n",
    "plt.xlabel('Years')\n",
    "plt.title('Total road deaths in the EU')\n",
    "plt.show()"
   ]
  },
  {
   "cell_type": "markdown",
   "metadata": {},
   "source": [
    "Deaths by road accidents have **contracted over the course of 1999-2018**. Now let's check which types of mean of the transport are mainly involved in the deadly accidents. "
   ]
  },
  {
   "cell_type": "markdown",
   "metadata": {},
   "source": [
    "<font size=\"5\">Which categories of transport are most commonly involved in the deadly accidents?</font>"
   ]
  },
  {
   "cell_type": "code",
   "execution_count": 7,
   "metadata": {},
   "outputs": [
    {
     "data": {
      "text/plain": [
       "vehicle\n",
       "CAR           62.472907\n",
       "MOTO_NSP      12.357828\n",
       "BIKE           8.505350\n",
       "MOP            4.718409\n",
       "VG_LE3P5       3.174390\n",
       "MOTO_GT125     2.168094\n",
       "MOTO_2WH       1.314033\n",
       "VG_GT3P5       1.209447\n",
       "VEH_GD         0.958131\n",
       "TRC_AGR        0.734854\n",
       "TRC            0.598273\n",
       "BUS            0.547356\n",
       "MTZ_OTH        0.432621\n",
       "MOTO_LE125     0.394434\n",
       "NMTZ_OTH       0.297244\n",
       "BUS_TOT        0.040080\n",
       "ANI_RD         0.023222\n",
       "MCO            0.018922\n",
       "QUA_GT50       0.015653\n",
       "BUS_MIN        0.010321\n",
       "QUA_LE50       0.003612\n",
       "TRM_LR         0.003096\n",
       "BUS_TRO        0.001720\n",
       "dtype: float64"
      ]
     },
     "execution_count": 7,
     "metadata": {},
     "output_type": "execute_result"
    }
   ],
   "source": [
    "#Let's sort the data by type of the vehicle, drop total, unknown and other collums \n",
    "v_type=data.groupby('vehicle').sum().drop(index=['TOTAL','UNK','OTH'])\n",
    "#Convert the list into relative numbers (percentages) and show the list in the descending order\n",
    "v_list=(v_type.sum(axis=1)/sum(v_type.sum(axis=1))*100).sort_values(ascending=False)\n",
    "v_list\n",
    " \n",
    "\n"
   ]
  },
  {
   "cell_type": "markdown",
   "metadata": {},
   "source": [
    "Meaning of abbreviations:\n",
    "MOTO_NSP motorbikes not specified , Bikes, Mopeds, VG_LE3P5 <3.5 tonnes goods cars, MOTO_GT125 Motorcycles > 125cm3\n",
    "MOTO_2WH Two-wheeled road motor vehicles (motorcycles), VG_GT3P5 Goods vehicles > 3.5 tonnes\n"
   ]
  },
  {
   "cell_type": "code",
   "execution_count": 8,
   "metadata": {},
   "outputs": [
    {
     "data": {
      "text/plain": [
       "95.92045962775657"
      ]
     },
     "execution_count": 8,
     "metadata": {},
     "output_type": "execute_result"
    }
   ],
   "source": [
    "#We take only those cateogories that account for more than 1 percent of total deaths. The sum of it correspond to 95.9% of total deaths\n",
    "v_list[v_list>1.0].sum()"
   ]
  },
  {
   "cell_type": "code",
   "execution_count": 9,
   "metadata": {},
   "outputs": [
    {
     "data": {
      "image/png": "[encoded data removed]",
      "text/plain": [
       "<Figure size 432x288 with 1 Axes>"
      ]
     },
     "metadata": {
      "needs_background": "light"
     },
     "output_type": "display_data"
    }
   ],
   "source": [
    "v_list[v_list>1.0].plot.bar(color=(1.0, 0.0, 0.0, 0.3))\n",
    "plt.ylabel('Percentage of total deaths')\n",
    "plt.show()"
   ]
  },
  {
   "cell_type": "markdown",
   "metadata": {},
   "source": [
    "**Car's are by far the most dominant in the deadly car accidents.** Let's classify the current list into bigger categories. Namely, passenger cars, motorbikes/mopeds and goods vehicles."
   ]
  },
  {
   "cell_type": "code",
   "execution_count": 10,
   "metadata": {},
   "outputs": [
    {
     "data": {
      "image/png": "[encoded data removed]",
      "text/plain": [
       "<Figure size 432x288 with 1 Axes>"
      ]
     },
     "metadata": {},
     "output_type": "display_data"
    }
   ],
   "source": [
    "def new_list(v_list):\n",
    "    empty_dict={'Passenger cars':0,'Bicycles':0,'Motorbikes/mopeds':0,'Goods vehicles':0}\n",
    "    for item in v_list.keys():\n",
    "        if item == 'CAR':\n",
    "            empty_dict['Passenger cars']=v_list[item]\n",
    "        elif item == 'BIKE':\n",
    "            empty_dict['Bicycles']=v_list[item]\n",
    "        elif item in ['VG_LE3P5','VG_GT3P5']:\n",
    "            empty_dict['Goods vehicles']+=v_list[item]\n",
    "        else:\n",
    "            empty_dict['Motorbikes/mopeds']+=v_list[item]\n",
    "    return empty_dict\n",
    "\n",
    "plt.pie(pd.Series(new_list(v_list)),labels=new_list(v_list).keys(),autopct='%1.1f%%')\n",
    "plt.legend(bbox_to_anchor=(0.9, 0.9))\n",
    "plt.title('Out of 95.9% total deaths')\n",
    "plt.show()"
   ]
  },
  {
   "cell_type": "markdown",
   "metadata": {},
   "source": [
    "**Slightly more than one fifth out of 95.9 % total road kils involve motorbikes.Roughly one tenth out of 95.9 % of total deaths involve cyclists!**"
   ]
  },
  {
   "cell_type": "markdown",
   "metadata": {},
   "source": [
    "<font size=\"5\">Which of these transport categories have experienced the biggest reduction in deaths?</font>"
   ]
  },
  {
   "cell_type": "code",
   "execution_count": 11,
   "metadata": {},
   "outputs": [
    {
     "data": {
      "text/plain": [
       "{'Passenger cars': 0.5434897713598075,\n",
       " 'Bicycles': 0.08638743455497382,\n",
       " 'Motorbikes/mopeds': 0.30207117852975496,\n",
       " 'Goods vehicles': 0.4464516129032258}"
      ]
     },
     "execution_count": 11,
     "metadata": {},
     "output_type": "execute_result"
    }
   ],
   "source": [
    "#How much are deaths reduced for each category?\n",
    "def reduction (data,start,finish):\n",
    "    #create an dictionary with 4 keys\n",
    "    empty_dict={'Passenger cars':0,'Bicycles':0,'Motorbikes/mopeds':0,'Goods vehicles':0}\n",
    "    #initialize 4 denominators \n",
    "    dn1,dn2,dn3,dn4=0,0,0,0\n",
    "    for item in data.index:\n",
    "        if item == 'CAR':\n",
    "            empty_dict['Passenger cars']=data[start][item]-data[finish][item]\n",
    "            dn1+=data[start][item]\n",
    "        elif item == 'BIKE':\n",
    "            empty_dict['Bicycles']=data[start][item]-data[finish][item]\n",
    "            dn2+=data[start][item]\n",
    "        elif item in ['VG_LE3P5','VG_GT3P5']:\n",
    "            empty_dict['Goods vehicles']+=data[start][item]-data[finish][item]\n",
    "            dn3+=data[start][item]\n",
    "        else:\n",
    "            empty_dict['Motorbikes/mopeds']+=data[start][item]-data[finish][item]\n",
    "            dn4+=data[start][item]\n",
    "    #calculate the relative reduction by dividing absolute decrease by deaths of particular category in 1999       \n",
    "    empty_dict['Passenger cars']=empty_dict['Passenger cars']/dn1 \n",
    "    empty_dict['Bicycles']=empty_dict['Bicycles']/dn2\n",
    "    empty_dict['Goods vehicles']=empty_dict['Goods vehicles']/dn3\n",
    "    empty_dict['Motorbikes/mopeds']=empty_dict['Motorbikes/mopeds']/dn4\n",
    "    return empty_dict\n",
    "reduction(v_type,'1999','2018')"
   ]
  },
  {
   "cell_type": "markdown",
   "metadata": {},
   "source": [
    "**It seems that the biggest improvement was done in the category of the passenger cars (~65% reduction in deaths). The least improved category are bikes with only 8.6 % reduction in deaths.**"
   ]
  },
  {
   "cell_type": "markdown",
   "metadata": {},
   "source": [
    "<font size=\"5\">Which top 10 countries have improved the most in reducing the road kills?<font>"
   ]
  },
  {
   "cell_type": "code",
   "execution_count": 12,
   "metadata": {},
   "outputs": [
    {
     "data": {
      "image/png": "[encoded data removed]",
      "text/plain": [
       "<Figure size 432x288 with 1 Axes>"
      ]
     },
     "metadata": {
      "needs_background": "light"
     },
     "output_type": "display_data"
    }
   ],
   "source": [
    "#Biggest reductions by country\n",
    "def top_10_improved (df):\n",
    "    #take data and groupby by country\n",
    "    data=df[df.vehicle=='TOTAL'].groupby('geo').sum() \n",
    "    #calculate the change of deaths from 1999 to 2018 in percentage\n",
    "    imp_deaths=((1-data['2018']/data['1999'])*100).sort_values(ascending=False)\n",
    "    return imp_deaths[:10]\n",
    "    \n",
    "\n",
    "top_10_improved(data).plot.bar()\n",
    "plt.title('Reduction of deaths between 1999 and 2018 years in top 10 countries')\n",
    "plt.ylabel('Reduction of deaths in %')\n",
    "plt.xlabel('Countries')\n",
    "plt.show()"
   ]
  },
  {
   "cell_type": "markdown",
   "metadata": {},
   "source": [
    "**Latvia, Lithuania,Slovenia and Estonia reduced road kills by more than 70%. Seems that the Baltic states have improved the most.**"
   ]
  },
  {
   "cell_type": "markdown",
   "metadata": {},
   "source": [
    "<font size=\"5\">Was reduction in deaths gradual process or there was a particular year when number of road kills dropped?<font>"
   ]
  },
  {
   "cell_type": "code",
   "execution_count": 13,
   "metadata": {},
   "outputs": [
    {
     "data": {
      "text/html": [
       "<div>\n",
       "<style scoped>\n",
       "    .dataframe tbody tr th:only-of-type {\n",
       "        vertical-align: middle;\n",
       "    }\n",
       "\n",
       "    .dataframe tbody tr th {\n",
       "        vertical-align: top;\n",
       "    }\n",
       "\n",
       "    .dataframe thead th {\n",
       "        text-align: right;\n",
       "    }\n",
       "</style>\n",
       "<table border=\"1\" class=\"dataframe\">\n",
       "  <thead>\n",
       "    <tr style=\"text-align: right;\">\n",
       "      <th></th>\n",
       "      <th>Year of max rel. red</th>\n",
       "      <th>Std of rel. red.</th>\n",
       "    </tr>\n",
       "  </thead>\n",
       "  <tbody>\n",
       "    <tr>\n",
       "      <th>LV</th>\n",
       "      <td>2008</td>\n",
       "      <td>0.106843</td>\n",
       "    </tr>\n",
       "    <tr>\n",
       "      <th>LT</th>\n",
       "      <td>2008</td>\n",
       "      <td>0.117341</td>\n",
       "    </tr>\n",
       "    <tr>\n",
       "      <th>SI</th>\n",
       "      <td>2008</td>\n",
       "      <td>0.117427</td>\n",
       "    </tr>\n",
       "    <tr>\n",
       "      <th>EE</th>\n",
       "      <td>2008</td>\n",
       "      <td>0.197695</td>\n",
       "    </tr>\n",
       "    <tr>\n",
       "      <th>ES</th>\n",
       "      <td>2008</td>\n",
       "      <td>0.068501</td>\n",
       "    </tr>\n",
       "    <tr>\n",
       "      <th>EL</th>\n",
       "      <td>2010</td>\n",
       "      <td>0.056546</td>\n",
       "    </tr>\n",
       "    <tr>\n",
       "      <th>DK</th>\n",
       "      <td>2009</td>\n",
       "      <td>0.146516</td>\n",
       "    </tr>\n",
       "    <tr>\n",
       "      <th>IE</th>\n",
       "      <td>2008</td>\n",
       "      <td>0.103972</td>\n",
       "    </tr>\n",
       "    <tr>\n",
       "      <th>NO</th>\n",
       "      <td>2017</td>\n",
       "      <td>0.150926</td>\n",
       "    </tr>\n",
       "    <tr>\n",
       "      <th>PT</th>\n",
       "      <td>2006</td>\n",
       "      <td>0.100042</td>\n",
       "    </tr>\n",
       "  </tbody>\n",
       "</table>\n",
       "</div>"
      ],
      "text/plain": [
       "   Year of max rel. red  Std of rel. red.\n",
       "LV                 2008          0.106843\n",
       "LT                 2008          0.117341\n",
       "SI                 2008          0.117427\n",
       "EE                 2008          0.197695\n",
       "ES                 2008          0.068501\n",
       "EL                 2010          0.056546\n",
       "DK                 2009          0.146516\n",
       "IE                 2008          0.103972\n",
       "NO                 2017          0.150926\n",
       "PT                 2006          0.100042"
      ]
     },
     "execution_count": 13,
     "metadata": {},
     "output_type": "execute_result"
    }
   ],
   "source": [
    "#Is reduction in deaths gradual or there was particular year when it happened.\n",
    "def reduction_pat (df):\n",
    "    #take data from the main dataframe\n",
    "    data=df[df.vehicle=='TOTAL'].groupby('geo').sum()\n",
    "    #define the country list \n",
    "    country_list=top_10_improved(df).keys()\n",
    "    #create empty dictioniaries for years of maximum reduction and std to check the reduction\n",
    "    dict_1={}\n",
    "    \n",
    "    for item in country_list:\n",
    "        #Return the year when relative decrease in deaths was the highest\n",
    "        value_1=(data.loc[item]/data.loc[item].shift(1)-1).idxmin()\n",
    "        #Return standard deviation of relative decrease in deaths for each country\n",
    "        value_2=(data.loc[item]/data.loc[item].shift(1)-1).std()\n",
    "        dict_1[item]=value_1,value_2\n",
    "       #convert dict to dataframe\n",
    "        new_data=pd.DataFrame.from_dict(dict_1, orient='index', columns=['Year of max rel. red', 'Std of rel. red.',])\n",
    "    return new_data\n",
    "\n",
    "   \n",
    "reduction_pat(data)"
   ]
  },
  {
   "cell_type": "markdown",
   "metadata": {},
   "source": [
    "**In 2008 most of top 10 countries experienced the biggest relative reduction in road kills.** Other than that, the second collumn named 'Std of rel. red.' standart devation of \n",
    "the relative reductions in deaths in the period of 1999-2018. **Spain has the smallest standard variation meaning that annual reduction is not well dispersed**. **In contrast Estonia exhibits the highest 0.197 standard deviation. Implying, that in some years reudctions was far from the average annual drop.**"
   ]
  }
 ],
 "metadata": {
  "kernelspec": {
   "display_name": "Python 3",
   "language": "python",
   "name": "python3"
  },
  "language_info": {
   "codemirror_mode": {
    "name": "ipython",
    "version": 3
   },
   "file_extension": ".py",
   "mimetype": "text/x-python",
   "name": "python",
   "nbconvert_exporter": "python",
   "pygments_lexer": "ipython3",
   "version": "3.7.6"
  }
 },
 "nbformat": 4,
 "nbformat_minor": 4
}
